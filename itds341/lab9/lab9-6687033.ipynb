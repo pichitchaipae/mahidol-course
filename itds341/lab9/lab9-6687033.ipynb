{
 "cells": [
  {
   "cell_type": "code",
   "execution_count": 1,
   "id": "38c38873",
   "metadata": {},
   "outputs": [
    {
     "name": "stdout",
     "output_type": "stream",
     "text": [
      "  minority  age  gender credits    beauty  eval division native tenure  \\\n",
      "0      yes   36  female    more  0.289916   4.3    upper    yes    yes   \n",
      "1      yes   36  female    more  0.289916   3.7    upper    yes    yes   \n",
      "2      yes   36  female    more  0.289916   3.6    upper    yes    yes   \n",
      "3      yes   36  female    more  0.289916   4.4    upper    yes    yes   \n",
      "4       no   59    male    more -0.737732   4.5    upper    yes    yes   \n",
      "\n",
      "   students  allstudents  prof  PrimaryLast  vismin  female  single_credit  \\\n",
      "0        24           43     1            0       1       1              0   \n",
      "1        86          125     1            0       1       1              0   \n",
      "2        76          125     1            0       1       1              0   \n",
      "3        77          123     1            1       1       1              0   \n",
      "4        17           20     2            0       0       0              0   \n",
      "\n",
      "   upper_division  English_speaker  tenured_prof  \n",
      "0               1                1             1  \n",
      "1               1                1             1  \n",
      "2               1                1             1  \n",
      "3               1                1             1  \n",
      "4               1                1             1  \n"
     ]
    }
   ],
   "source": [
    "# Task 1: Load the Teaching Rating Dataset\n",
    "import pandas as pd\n",
    "import numpy as np\n",
    "import scipy.stats\n",
    "import matplotlib.pyplot as plt\n",
    "import seaborn as sns\n",
    "\n",
    "df = pd.read_csv('teachingratings.csv')\n",
    "print(df.head())"
   ]
  },
  {
   "cell_type": "code",
   "execution_count": 4,
   "id": "460a56ab",
   "metadata": {},
   "outputs": [],
   "source": [
    "# Task 2: Does Gender Affect Teaching Evaluation? (Independent Samples t-Test)\n",
    "# In this section, we will test whether gender affects teaching evaluation ratings (eval).\n",
    "\n",
    "male_rating_df = df[df['gender'] == 'male']\n",
    "female_rating_df = df[df['gender'] == 'female']\n",
    "\n",
    "male_rating_df = df['eval']\n",
    "female_rating_df = df['eval']\n",
    "\n",
    "# Assumptions for the independent samples t-test:\n",
    "\n",
    "# Observations are independent within and across groups.\n",
    "# Each group is approximately normally distributed.\n",
    "# Variances are equal across groups (homoscedasticity).\n",
    "\n",
    "# T2-1: State the Hypotheses\n",
    "\n",
    "# Please provide your answer in the text cell below. What are the Null Hypothesis (H0) and the Alternative Hypothesis (H1)?\n",
    "# Null Hypothesis (H0): There is no significant difference in teaching evaluations between male and female instructors.\n",
    "# Alternative Hypothesis (H1): There is a significant difference in teaching evaluations between male and female instructors."
   ]
  },
  {
   "cell_type": "code",
   "execution_count": 5,
   "id": "3203ff9e",
   "metadata": {},
   "outputs": [
    {
     "name": "stdout",
     "output_type": "stream",
     "text": [
      "4      4.5\n",
      "5      4.0\n",
      "6      2.1\n",
      "7      3.7\n",
      "8      3.2\n",
      "      ... \n",
      "450    3.2\n",
      "451    4.3\n",
      "458    3.5\n",
      "460    4.0\n",
      "461    4.3\n",
      "Name: eval, Length: 268, dtype: float64\n",
      "0      4.3\n",
      "1      3.7\n",
      "2      3.6\n",
      "3      4.4\n",
      "9      4.3\n",
      "      ... \n",
      "455    4.1\n",
      "456    3.3\n",
      "457    2.3\n",
      "459    3.5\n",
      "462    3.0\n",
      "Name: eval, Length: 195, dtype: float64\n"
     ]
    }
   ],
   "source": [
    "# T2-2: Split the Dataset by Gender\n",
    "# Split the dataset into the teachers' ratings from males and females. Store the results in male_rating_df and female_rating_df.\n",
    "\n",
    "male_rating_df = male_rating_df[df['gender'] == 'male']\n",
    "female_rating_df = female_rating_df[df['gender'] == 'female']\n",
    "\n",
    "print(male_rating_df)\n",
    "print(female_rating_df)"
   ]
  },
  {
   "cell_type": "code",
   "execution_count": 6,
   "id": "75c54e9a",
   "metadata": {},
   "outputs": [
    {
     "name": "stdout",
     "output_type": "stream",
     "text": [
      "male 4.06902985163589 0.5566518074142299\n",
      "female 3.901025635156876 0.5388025823261161\n"
     ]
    }
   ],
   "source": [
    "# T2-3: Compute Mean and Standard Deviation\n",
    "# Compute the mean and the standard deviation of each group. Print the results as shown below.\n",
    "\n",
    "# Expected outputs\n",
    "# male 4.06902985163589 0.5566518074142298\n",
    "# female 3.901025635156876 0.5388025823261163\n",
    "\n",
    "male_mean = male_rating_df.mean()\n",
    "male_std = male_rating_df.std()\n",
    "female_mean = female_rating_df.mean()\n",
    "female_std = female_rating_df.std()\n",
    "\n",
    "print(f\"male {male_mean} {male_std}\")\n",
    "print(f\"female {female_mean} {female_std}\")\n"
   ]
  },
  {
   "cell_type": "code",
   "execution_count": null,
   "id": "2ea62892",
   "metadata": {},
   "outputs": [
    {
     "data": {
      "image/png": "[encoded data removed]",
      "text/plain": [
       "<Figure size 640x480 with 1 Axes>"
      ]
     },
     "metadata": {},
     "output_type": "display_data"
    },
    {
     "name": "stdout",
     "output_type": "stream",
     "text": [
      "ShapiroResult(statistic=np.float64(0.9775136992205136), pvalue=np.float64(1.4248993103712382e-06))\n",
      "LeveneResult(statistic=np.float64(0.1194317835514822), pvalue=np.float64(0.7298092272287092))\n",
      "TtestResult(statistic=np.float64(3.249937943510772), pvalue=np.float64(0.0012387609449522217), df=np.float64(461.0))\n",
      "MannwhitneyuResult(statistic=np.float64(30911.0), pvalue=np.float64(0.0007567781189068588))\n"
     ]
    }
   ],
   "source": [
    "# T2-4: Test for Normality\n",
    "# T2-4-1: Visual Inspection\n",
    "# Please use sns.histplot to visually inspect whether the 'eval' column is normally distributed.\n",
    "sns.histplot(df['eval'], kde=True)\n",
    "plt.show()\n",
    "# Please provide your answer in the text cell below whether the data are normally distributed.\n",
    "# Answer: The distribution is left-skewed, so the data are not normally distributed.\n",
    "\n",
    "# T2-4-2: Shapiro-Wilk Test\n",
    "# Please use scipy.stats.shapiro to test for normality.\n",
    "shapiro_test = scipy.stats.shapiro(df['eval'])\n",
    "print(shapiro_test) # ShapiroResult(statistic=np.float64(0.9775136992205136), pvalue=np.float64(1.4248993103712382e-06))\n",
    "\n",
    "# Please provide your answer in the text cell below whether the data are normally distributed.\n",
    "# Answer: The p-value is less than 0.05, so we reject the null hypothesis. The data are not normally distributed.\n",
    "\n",
    "# T2-5: Test for Equal Variances\n",
    "# Please use scipy.stats.levene to test if the variances of teaching evaluation rates are equal. Specify center based on your conclusion in T2-4-1.\n",
    "levene_test = scipy.stats.levene(male_rating_df, female_rating_df, center='median')\n",
    "print(levene_test) # LeveneResult(statistic=np.float64(0.1194317835514822), pvalue=np.float64(0.7298092272287092))\n",
    "# Hint:\n",
    "# center='mean' is used when the data are normally distributed.\n",
    "# center='median' is used when the data are not normally distributed.\n",
    "# Please provide your answer below whether two samples have the same variances.\n",
    "# Answer: The p-value is greater than 0.05, so we fail to reject the null hypothesis. The two samples have equal variances.\n",
    "\n",
    "# T2-6: Perform the Independent Samples t-Test\n",
    "# Please use scipy.stats.ttest_ind to perform the independent samples t-test. Specify equal_var based on the Levene's test results in T2-5.\n",
    "t_test = scipy.stats.ttest_ind(male_rating_df, female_rating_df, equal_var=True)\n",
    "print(t_test) # TtestResult(statistic=np.float64(3.249937943510772), pvalue=np.float64(0.0012387609449522217), df=np.float64(461.0))\n",
    "\n",
    "# Please provide your answer below whether the gender affects teaching evaluation rating based on the t-test result.\n",
    "# Answer: The p-value is less than 0.05, so we reject the null hypothesis. The gender affects teaching evaluation rating.\n",
    "\n",
    "# T2-7: Perform the Mann-Whitney U-Test\n",
    "# Please use scipy.stats.mannwhitneyu to test whether gender affects teaching evaluation rates.\n",
    "mann_whitney_test = scipy.stats.mannwhitneyu(male_rating_df, female_rating_df)\n",
    "print(mann_whitney_test) # MannwhitneyuResult(statistic=np.float64(30911.0), pvalue=np.float64(0.0007567781189068588))\n",
    "\n",
    "# Please provide your answer below whether the gender affects teaching evaluation rating based on the Mann-Whitney U-Test result.\n",
    "# Answer: The p-value is less than 0.05, so we reject the null hypothesis. The gender affects teaching evaluation rating."
   ]
  },
  {
   "cell_type": "code",
   "execution_count": null,
   "id": "14233424",
   "metadata": {},
   "outputs": [
    {
     "name": "stdout",
     "output_type": "stream",
     "text": [
      "0      4.3\n",
      "1      3.7\n",
      "2      3.6\n",
      "3      4.4\n",
      "9      4.3\n",
      "      ... \n",
      "450    3.2\n",
      "451    4.3\n",
      "456    3.3\n",
      "458    3.5\n",
      "461    4.3\n",
      "Name: eval, Length: 113, dtype: float64\n",
      "7      3.7\n",
      "8      3.2\n",
      "35     3.4\n",
      "36     4.5\n",
      "37     4.5\n",
      "      ... \n",
      "454    3.2\n",
      "455    4.1\n",
      "457    2.3\n",
      "460    4.0\n",
      "462    3.0\n",
      "Name: eval, Length: 228, dtype: float64\n",
      "4      4.5\n",
      "5      4.0\n",
      "6      2.1\n",
      "23     4.2\n",
      "24     4.4\n",
      "      ... \n",
      "442    3.6\n",
      "443    4.2\n",
      "444    3.4\n",
      "445    4.0\n",
      "459    3.5\n",
      "Name: eval, Length: 122, dtype: float64\n",
      "young 4.002654871054455 0.5057632493708225\n",
      "mid 4.030701748111792 0.5379234358312474\n",
      "old 3.9336065581587496 0.6242497286958887\n",
      "LeveneResult(statistic=np.float64(3.820237661494229), pvalue=np.float64(0.02262141852021939))\n",
      "F_onewayResult(statistic=np.float64(1.2226327996572206), pvalue=np.float64(0.29540894225417536))\n"
     ]
    }
   ],
   "source": [
    "# Task 3: Does Teaching Evaluation Differ by Age? (One-way ANOVA)\n",
    "# In this section, you will use one-way ANOVA to determine if teaching evaluation scores differ by age group.\n",
    "\n",
    "# Assumptions for one-way ANOVA:\n",
    "\n",
    "# Observations are independent.\n",
    "# Each group is normally distributed.\n",
    "# Variances are equal across groups.\n",
    "# In this task, we will assume that the data in each age group are normally distributed. Thus the only test left before we can run the one-way ANOVA is the test for the equality of variances.\n",
    "\n",
    "# T3-1: Split the Dataset by Age Group\n",
    "# Split the dataset into three age groups: young, mid, and old. Store the results in young_rating_df, mid_rating_df, and old_rating_df.\n",
    "\n",
    "# young_rating_df = df.loc[(df['age'] <= 40), 'eval']\n",
    "# mid_rating_df = df.loc[(df['age'] > 40) & (df['age'] < 57), 'eval']\n",
    "# old_rating_df = df.loc[(df['age'] >= 57), 'eval']\n",
    "\n",
    "young_rating_df = df['eval'][df['age'] <= 40]\n",
    "mid_rating_df = df['eval'][(df['age'] > 40) & (df['age'] < 57)]\n",
    "old_rating_df = df['eval'][df['age'] >= 57]\n",
    "print(young_rating_df)\n",
    "print(mid_rating_df)\n",
    "print(old_rating_df)\n",
    "\n",
    "# T3-2: Compute Mean and Standard Deviation for Each Group\n",
    "# Compute the mean and the standard deviation of each group. Print the results as shown below.\n",
    "\n",
    "# # Expected outputs\n",
    "# # young 4.002654871054455 0.5057632493708224\n",
    "# # mid 4.030701748111792 0.5379234358312474\n",
    "# # old 3.9336065581587496 0.6242497286958886\n",
    "\n",
    "young_mean = young_rating_df.mean()\n",
    "young_std = young_rating_df.std()\n",
    "mid_mean = mid_rating_df.mean()\n",
    "mid_std = mid_rating_df.std()\n",
    "old_mean = old_rating_df.mean()\n",
    "old_std = old_rating_df.std()\n",
    "\n",
    "print(f\"young {young_mean} {young_std}\")\n",
    "print(f\"mid {mid_mean} {mid_std}\")\n",
    "print(f\"old {old_mean} {old_std}\")\n",
    "\n",
    "# T3-3: Test for Equal Variances\n",
    "# Please use scipy.stats.levene to test for equality of variances among the three age groups. Use center='mean' as we assume normality.\n",
    "\n",
    "# Hint: As scipy.stats.levene support more than two sets of samples, so you can run the test on three groups in one go.\n",
    "\n",
    "# Please provide your answer below whether the variances are the same or different.\n",
    "levene_test_age = scipy.stats.levene(young_rating_df, mid_rating_df, old_rating_df, center='mean')\n",
    "print(levene_test_age) # LeveneResult(statistic=np.float64(3.820237661494229), pvalue=np.float64(0.02262141852021939))\n",
    "# Answer: The p-value is less than 0.05, so we reject the null hypothesis. The variances are different.\n",
    "\n",
    "# T3-4: Perform One-way ANOVA\n",
    "# Regardless of whether the assumption on the same variances hold from the task T3-3, please Use scipy.stats.f_oneway to perform one-way ANOVA.\n",
    "anova_test = scipy.stats.f_oneway(young_rating_df, mid_rating_df, old_rating_df)\n",
    "print(anova_test) # F_onewayResult(statistic=np.float64(1.2226327996572206), pvalue=np.float64(0.29540894225417536))\n",
    "# Please provide your answer below whether the teaching evaluation rating differs by age group.\n",
    "# Answer: The p-value is greater than 0.05, so we fail to reject the null hypothesis. The teaching evaluation rating does not differ by age group."
   ]
  },
  {
   "cell_type": "code",
   "execution_count": null,
   "id": "e5395757",
   "metadata": {},
   "outputs": [],
   "source": []
  }
 ],
 "metadata": {
  "kernelspec": {
   "display_name": "anaconda-2025.06-py3.11",
   "language": "python",
   "name": "conda-env-anaconda-2025.06-py3.11"
  },
  "language_info": {
   "codemirror_mode": {
    "name": "ipython",
    "version": 3
   },
   "file_extension": ".py",
   "mimetype": "text/x-python",
   "name": "python",
   "nbconvert_exporter": "python",
   "pygments_lexer": "ipython3",
   "version": "3.11.13"
  }
 },
 "nbformat": 4,
 "nbformat_minor": 5
}
